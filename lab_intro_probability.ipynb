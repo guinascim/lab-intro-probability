{
  "cells": [
    {
      "cell_type": "markdown",
      "metadata": {
        "id": "Ac-TPzWe1u35"
      },
      "source": [
        "# Lab | Intro to Probability"
      ]
    },
    {
      "cell_type": "markdown",
      "metadata": {
        "id": "1_eaD-R61u37"
      },
      "source": [
        "**Objective**\n",
        "\n",
        "Welcome to this Intro to Probability lab, where we explore decision-making scenarios through the lens of probability and strategic analysis. In the business world, making informed decisions is crucial, especially when faced with uncertainties. This lab focuses on scenarios where probabilistic outcomes play a significant role in shaping strategies and outcomes. Students will engage in exercises that require assessing and choosing optimal paths based on data-driven insights. The goal is to enhance your skills by applying probability concepts to solve real-world problems."
      ]
    },
    {
      "cell_type": "markdown",
      "metadata": {
        "id": "eKsnzRtt1u38"
      },
      "source": [
        "**Challenge 1**"
      ]
    },
    {
      "cell_type": "markdown",
      "metadata": {
        "id": "yNlQFGmR1u38"
      },
      "source": [
        "#### Ironhack Airlines\n",
        "\n",
        "Often Airlines sell more tickets than they have seats available, this is called overbooking. Consider the following:\n",
        "- A plane has 450 seats.\n",
        "- Based on historical data we conclude that each individual passenger has a 3% chance of missing it's flight.\n",
        "\n",
        "If the Ironhack Airlines routinely sells 460 tickets, what is the chance that they have a seats for all passenger?"
      ]
    },
    {
      "cell_type": "code",
      "source": [
        "import scipy.stats as stats"
      ],
      "metadata": {
        "id": "6PFYgutj19zW"
      },
      "execution_count": 4,
      "outputs": []
    },
    {
      "cell_type": "code",
      "execution_count": 5,
      "metadata": {
        "colab": {
          "base_uri": "https://localhost:8080/"
        },
        "id": "JbiyLuiu1u38",
        "outputId": "d67d1822-a229-48bd-cd5f-d6aeb6c030db"
      },
      "outputs": [
        {
          "output_type": "execute_result",
          "data": {
            "text/plain": [
              "0.7374241268949284"
            ]
          },
          "metadata": {},
          "execution_count": 5
        }
      ],
      "source": [
        "total_seats = 450\n",
        "tickets_sold = 460\n",
        "probability_missing_flight = 0.03\n",
        "\n",
        "probability_all_seats = stats.binom.pmf(0, tickets_sold - total_seats, probability_missing_flight)\n",
        "\n",
        "probability_all_seats"
      ]
    },
    {
      "cell_type": "markdown",
      "metadata": {
        "id": "xBFnx6hM1u39"
      },
      "source": [
        "**Challenge 2**"
      ]
    },
    {
      "cell_type": "markdown",
      "metadata": {
        "id": "4aCm9_f41u39"
      },
      "source": [
        "#### Ironhack Call Center"
      ]
    },
    {
      "cell_type": "markdown",
      "metadata": {
        "id": "WymP3jRy1u39"
      },
      "source": [
        "Suppose a customer service representative at a call center is handling customer complaints. Consider the following:\n",
        "- The probability of successfully resolving a customer complaint on the first attempt is 0.3.\n",
        "\n",
        "\n",
        "What is the probability that the representative needs to make at least three attempts before successfully resolving a customer complaint?"
      ]
    },
    {
      "cell_type": "code",
      "execution_count": 6,
      "metadata": {
        "colab": {
          "base_uri": "https://localhost:8080/"
        },
        "id": "WN08de6q1u39",
        "outputId": "c1c509e8-3ba2-42a5-da93-591d424b057b"
      },
      "outputs": [
        {
          "output_type": "execute_result",
          "data": {
            "text/plain": [
              "0.21000000000000002"
            ]
          },
          "metadata": {},
          "execution_count": 6
        }
      ],
      "source": [
        "p_success_first_attempt = 0.3\n",
        "p_at_least_three_attempts = 1 - p_success_first_attempt - (1 - p_success_first_attempt) ** 2\n",
        "p_at_least_three_attempts"
      ]
    },
    {
      "cell_type": "markdown",
      "metadata": {
        "id": "mK66_aEC1u39"
      },
      "source": [
        "**Challenge 3**"
      ]
    },
    {
      "cell_type": "markdown",
      "metadata": {
        "id": "aQmxepYp1u3-"
      },
      "source": [
        "#### Ironhack Website"
      ]
    },
    {
      "cell_type": "markdown",
      "metadata": {
        "id": "HqbRSxUX1u3-"
      },
      "source": [
        "Consider a scenario related to Ironhack website traffic. Where:\n",
        "- our website takes on average 500 visits per hour.\n",
        "- the website's server is designed to handle up to 550 vists per hour.\n",
        "\n",
        "\n",
        "What is the probability of the website server being overwhelmed?"
      ]
    },
    {
      "cell_type": "code",
      "execution_count": 7,
      "metadata": {
        "colab": {
          "base_uri": "https://localhost:8080/"
        },
        "id": "KpZ7meMe1u3-",
        "outputId": "46e76bb3-6cc2-42d6-9924-013d408e2b22"
      },
      "outputs": [
        {
          "output_type": "execute_result",
          "data": {
            "text/plain": [
              "0.01440972788991346"
            ]
          },
          "metadata": {},
          "execution_count": 7
        }
      ],
      "source": [
        "average_visits_per_hour = 500\n",
        "server_capacity_per_hour = 550\n",
        "\n",
        "probability_overwhelmed_one_hour = 1 - stats.poisson.cdf(server_capacity_per_hour - 1, average_visits_per_hour)\n",
        "probability_overwhelmed_one_hour"
      ]
    },
    {
      "cell_type": "markdown",
      "metadata": {
        "id": "u94SEQnW1u3-"
      },
      "source": [
        "What is the probability of being overwhelmed at some point during a day? (consider 24hours)"
      ]
    },
    {
      "cell_type": "code",
      "execution_count": 8,
      "metadata": {
        "colab": {
          "base_uri": "https://localhost:8080/"
        },
        "id": "U6SDNCEw1u3-",
        "outputId": "82c9c325-d867-456e-a3d2-296c9ec366c9"
      },
      "outputs": [
        {
          "output_type": "execute_result",
          "data": {
            "text/plain": [
              "0.0"
            ]
          },
          "metadata": {},
          "execution_count": 8
        }
      ],
      "source": [
        "probability_overwhelmed_day = 1 - stats.poisson.cdf(server_capacity_per_hour * 24 - 1, average_visits_per_hour * 24)\n",
        "probability_overwhelmed_day"
      ]
    },
    {
      "cell_type": "markdown",
      "metadata": {
        "id": "EkPrk0No1u3-"
      },
      "source": [
        "**Challenge 4**"
      ]
    },
    {
      "cell_type": "markdown",
      "metadata": {
        "id": "M3M0lc7q1u3-"
      },
      "source": [
        "#### Ironhack Helpdesk"
      ]
    },
    {
      "cell_type": "markdown",
      "metadata": {
        "id": "lefHctww1u3_"
      },
      "source": [
        "Consider a scenario related to the time between arrivals of customers at a service desk.\n",
        "\n",
        "On average, a customers arrives every 10minutes.\n",
        "\n",
        "What is the probability that the next customer will arrive within the next 5 minutes?"
      ]
    },
    {
      "cell_type": "code",
      "execution_count": 9,
      "metadata": {
        "colab": {
          "base_uri": "https://localhost:8080/"
        },
        "id": "ArIg7DpA1u3_",
        "outputId": "b7551118-c902-42ea-db6a-1f12a4a4ccb5"
      },
      "outputs": [
        {
          "output_type": "execute_result",
          "data": {
            "text/plain": [
              "0.6065306597126334"
            ]
          },
          "metadata": {},
          "execution_count": 9
        }
      ],
      "source": [
        "arrival_rate_per_minute = 1 / 10\n",
        "\n",
        "probability_next_customer_within_5_minutes = 1 - stats.expon.cdf(5, scale=1/arrival_rate_per_minute)\n",
        "probability_next_customer_within_5_minutes"
      ]
    },
    {
      "cell_type": "markdown",
      "metadata": {
        "id": "uTNDlVzo1u3_"
      },
      "source": [
        "If there is no customer for 15minutes, employees can that a 5minutes break.\n",
        "\n",
        "What is the probability an employee taking a break?"
      ]
    },
    {
      "cell_type": "code",
      "execution_count": 10,
      "metadata": {
        "colab": {
          "base_uri": "https://localhost:8080/"
        },
        "id": "7qXkQN8E1u3_",
        "outputId": "f514c720-4478-4168-c042-822573e00076"
      },
      "outputs": [
        {
          "output_type": "execute_result",
          "data": {
            "text/plain": [
              "0.2231301601484298"
            ]
          },
          "metadata": {},
          "execution_count": 10
        }
      ],
      "source": [
        "probability_employee_taking_break = 1 - stats.expon.cdf(15, scale=1/arrival_rate_per_minute)\n",
        "probability_employee_taking_break\n"
      ]
    },
    {
      "cell_type": "markdown",
      "metadata": {
        "id": "tLc3xnII1u3_"
      },
      "source": [
        "**Challenge 5**"
      ]
    },
    {
      "cell_type": "markdown",
      "metadata": {
        "id": "x6RoE60y1u3_"
      },
      "source": [
        "The weights of a certain species of birds follow a normal distribution with a mean weight of 150 grams and a standard deviation of 10 grams.\n",
        "\n",
        "- If we randomly select a bird, what is the probability that its weight is between 140 and 160 grams?"
      ]
    },
    {
      "cell_type": "code",
      "execution_count": 11,
      "metadata": {
        "colab": {
          "base_uri": "https://localhost:8080/"
        },
        "id": "1Ts7sW-d1u3_",
        "outputId": "d1ecf310-314d-4598-bff3-19e2ce96f441"
      },
      "outputs": [
        {
          "output_type": "execute_result",
          "data": {
            "text/plain": [
              "0.6826894921370859"
            ]
          },
          "metadata": {},
          "execution_count": 11
        }
      ],
      "source": [
        "mean_weight = 150\n",
        "std_dev_weight = 10\n",
        "\n",
        "probability_between_140_160 = stats.norm.cdf(160, loc=mean_weight, scale=std_dev_weight) - stats.norm.cdf(140, loc=mean_weight, scale=std_dev_weight)\n",
        "probability_between_140_160\n"
      ]
    },
    {
      "cell_type": "markdown",
      "metadata": {
        "id": "qhM75_G11u3_"
      },
      "source": [
        "**Challenge 6**"
      ]
    },
    {
      "cell_type": "markdown",
      "metadata": {
        "id": "nfnA1zXz1u4A"
      },
      "source": [
        "If the lifetime (in hours) of a certain electronic component follows an exponential distribution with a mean lifetime of 50 hours, what is the probability that the component fails within the first 30 hours?"
      ]
    },
    {
      "cell_type": "code",
      "execution_count": 12,
      "metadata": {
        "colab": {
          "base_uri": "https://localhost:8080/"
        },
        "id": "GsQ-xd4f1u4A",
        "outputId": "eda7f25b-524f-4e1f-a231-5f73bce5f4ff"
      },
      "outputs": [
        {
          "output_type": "execute_result",
          "data": {
            "text/plain": [
              "0.5488116360940264"
            ]
          },
          "metadata": {},
          "execution_count": 12
        }
      ],
      "source": [
        "mean_lifetime = 50\n",
        "\n",
        "probability_failure_within_30_hours = 1 - stats.expon.cdf(30, scale=mean_lifetime)\n",
        "probability_failure_within_30_hours"
      ]
    }
  ],
  "metadata": {
    "kernelspec": {
      "display_name": "Python 3",
      "language": "python",
      "name": "python3"
    },
    "language_info": {
      "codemirror_mode": {
        "name": "ipython",
        "version": 3
      },
      "file_extension": ".py",
      "mimetype": "text/x-python",
      "name": "python",
      "nbconvert_exporter": "python",
      "pygments_lexer": "ipython3",
      "version": "3.10.9"
    },
    "colab": {
      "provenance": []
    }
  },
  "nbformat": 4,
  "nbformat_minor": 0
}